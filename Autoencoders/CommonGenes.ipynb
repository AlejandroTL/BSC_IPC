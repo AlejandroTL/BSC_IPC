{
 "metadata": {
  "language_info": {
   "codemirror_mode": {
    "name": "ipython",
    "version": 3
   },
   "file_extension": ".py",
   "mimetype": "text/x-python",
   "name": "python",
   "nbconvert_exporter": "python",
   "pygments_lexer": "ipython3",
   "version": "3.7.9-final"
  },
  "orig_nbformat": 2,
  "kernelspec": {
   "name": "python3",
   "display_name": "Python 3",
   "language": "python"
  }
 },
 "nbformat": 4,
 "nbformat_minor": 2,
 "cells": [
  {
   "cell_type": "code",
   "execution_count": 1,
   "metadata": {},
   "outputs": [
    {
     "output_type": "stream",
     "name": "stdout",
     "text": [
      "The shape of the Cavalli data is:  (18479, 763)\n",
      "The shape of the Northcott data is:  (18473, 285)\n"
     ]
    }
   ],
   "source": [
    "import pandas as pd\n",
    "import numpy as np\n",
    "import matplotlib.pyplot as plt\n",
    "from mpl_toolkits import mplot3d\n",
    "import matplotlib.patches as mpatches\n",
    "%matplotlib qt\n",
    "\n",
    "Cavalli = pd.read_csv('Medulloblastoma Files\\Tumor_Medulloblastoma_Cavalli_763_rma_sketch_hugene11t.txt', sep=';', na_values=\".\")\n",
    "print(\"The shape of the Cavalli data is: \", Cavalli.shape)\n",
    "\n",
    "Northcott = pd.read_csv('Medulloblastoma Files\\Tumor_Medulloblastoma_MAGIC_Northcott_285_rma_sketch_hugene11t.txt',sep=';', na_values=\".\")\n",
    "print(\"The shape of the Northcott data is: \", Northcott.shape)"
   ]
  },
  {
   "cell_type": "code",
   "execution_count": 2,
   "metadata": {},
   "outputs": [],
   "source": [
    "Cavalli = Cavalli.T\n",
    "Northcott = Northcott.T"
   ]
  },
  {
   "cell_type": "code",
   "execution_count": 3,
   "metadata": {},
   "outputs": [],
   "source": [
    "subgroups = pd.read_csv('Medulloblastoma Files\\GSE85218_subgroups.csv', sep=' ', na_values=\".\", header=None)\n",
    "subgroups.columns = ['key','Subgroup']\n",
    "subgroups = subgroups.set_index('key')"
   ]
  },
  {
   "cell_type": "code",
   "execution_count": 4,
   "metadata": {},
   "outputs": [],
   "source": [
    "def variance_threshold_selector(data, threshold=0.1):\n",
    "    selector = VarianceThreshold(threshold)\n",
    "    selector.fit(data)\n",
    "    return data[data.columns[selector.get_support(indices=True)]]"
   ]
  },
  {
   "cell_type": "code",
   "execution_count": 5,
   "metadata": {},
   "outputs": [
    {
     "output_type": "stream",
     "name": "stdout",
     "text": [
      "With a threshold of 0.10, the Cavalli dataset is just  (763, 13115)\nWith a threshold of 0.10, the Northcott dataset is just  (285, 12389)\n"
     ]
    }
   ],
   "source": [
    "from sklearn.feature_selection import VarianceThreshold\n",
    "\n",
    "Cavalli_variance = variance_threshold_selector(Cavalli,0.1)\n",
    "Northcott_variance = variance_threshold_selector(Northcott,0.1)\n",
    "\n",
    "print(\"With a threshold of 0.10, the Cavalli dataset is just \", Cavalli_variance.shape)\n",
    "print(\"With a threshold of 0.10, the Northcott dataset is just \", Northcott_variance.shape)"
   ]
  },
  {
   "cell_type": "code",
   "execution_count": 6,
   "metadata": {},
   "outputs": [],
   "source": [
    "Cavalli_columns = Cavalli_variance.columns\n",
    "Northcott_columns = Northcott_variance.columns\n",
    "\n",
    "Common_genes = list((set(Cavalli_columns))&(set(Northcott_columns)))\n",
    "\n",
    "Cavalli_end = Cavalli[Common_genes]\n",
    "Northcott_end = Northcott[Common_genes]"
   ]
  },
  {
   "cell_type": "code",
   "execution_count": 7,
   "metadata": {},
   "outputs": [],
   "source": [
    "import umap\n",
    "n_neighbors = [5,15,50,75,100,200]\n",
    "\n",
    "for i in n_neighbors:\n",
    "    reducer = umap.UMAP(n_components=3,n_neighbors=i)\n",
    "    embedding = reducer.fit_transform(Cavalli_end)\n",
    "    embedding_df = pd.DataFrame(embedding)\n",
    "    embedding_df['Subgroups']= subgroups['Subgroup'].values\n",
    "\n",
    "    X_data= embedding_df[0]\n",
    "    Y_data = embedding_df[1]\n",
    "    Z_data = embedding_df[2]\n",
    "    Sbgrp = embedding_df['Subgroups']\n",
    "\n",
    "    cdict = {'Group4': 'red', 'SHH': 'blue', 'WNT': 'green', 'Group3': 'yellow'}\n",
    "    c = [cdict[val] for val in Sbgrp]\n",
    "\n",
    "    plt.figure(figsize=(16,10))\n",
    "    ax = plt.axes(projection='3d')\n",
    "    ax.scatter3D(X_data, Y_data, Z_data, c=c);\n",
    "    red_c = mpatches.Patch(color='red', label='Group4')\n",
    "    blue_c = mpatches.Patch(color='blue', label='SHH')\n",
    "    green_c = mpatches.Patch(color='green', label='WNT')\n",
    "    yellow_c = mpatches.Patch(color='yellow', label='Group3')\n",
    "    plt.legend(handles=[red_c,blue_c,green_c,yellow_c])\n",
    "    plt.title('UMAP with n_neighbors %i'%(i))\n",
    "    plt.show()"
   ]
  },
  {
   "cell_type": "code",
   "execution_count": 14,
   "metadata": {},
   "outputs": [],
   "source": [
    "Cavalli_end.to_csv('Medulloblastoma_Cavalli_VAE_data.csv', sep=',', header=True)\n",
    "Northcott_end.to_csv('Medulloblastoma_Northcott_VAE_data.csv', sep=',', header=True)"
   ]
  },
  {
   "cell_type": "code",
   "execution_count": null,
   "metadata": {},
   "outputs": [],
   "source": []
  }
 ]
}