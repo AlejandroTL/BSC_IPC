{
 "cells": [
  {
   "cell_type": "code",
   "execution_count": 1,
   "metadata": {},
   "outputs": [],
   "source": [
    "def find_outliers(data, percentage=0.10):\n",
    "    \n",
    "    candidates_final = []\n",
    "    return_list = []\n",
    "    \n",
    "    for column in data.columns:\n",
    "        Q1 = data[column].quantile(0.25)\n",
    "        Q3 = data[column].quantile(0.75)\n",
    "        IQR = Q3 - Q1\n",
    "        candidates_final = candidates_final + (list(data.loc[data[column]<(Q1-1.5*IQR)].index))\n",
    "        candidates_final = candidates_final + (list(data.loc[data[column]<(Q1-1.5*IQR)].index))\n",
    "\n",
    "    for i in candidates_final:\n",
    "        if candidates_final.count(i) > percentage*len(data.columns):\n",
    "            return_list.append(i)\n",
    "            \n",
    "    return set(return_list)"
   ]
  },
  {
   "cell_type": "code",
   "execution_count": 2,
   "metadata": {},
   "outputs": [],
   "source": [
    "from numpy import linalg as LA    \n",
    "\n",
    "def max_min_distances(data):\n",
    "    \n",
    "    minor_list = []\n",
    "    max_list = []    \n",
    "    \n",
    "    if type(data) == pd.core.frame.DataFrame:\n",
    "        data = data.to_numpy()\n",
    "\n",
    "    for i in range(0,len(data)):\n",
    "        minor = 9999\n",
    "        distance = 9999\n",
    "        max = 0\n",
    "        for j in range(0,len(data)):\n",
    "            if i != j:\n",
    "                distance=LA.norm(data[i]-data[j],ord=2)\n",
    "            if distance < minor:\n",
    "                minor = distance\n",
    "                index_min = j\n",
    "            if distance > max:\n",
    "                max = distance\n",
    "                index_max = j\n",
    "        minor_list.append(minor)\n",
    "        max_list.append(max)\n",
    "    minor_average = sum(minor_list[1:])/len(data)\n",
    "    max_average = sum(max_list[1:])/len(data)\n",
    "    \n",
    "    return minor_list, minor_average, max_list, max_average\n"
   ]
  },
  {
   "cell_type": "code",
   "execution_count": 3,
   "metadata": {},
   "outputs": [
    {
     "name": "stdout",
     "output_type": "stream",
     "text": [
      "The shape of the Cavalli data is:  (18479, 763)\n",
      "The shape of the Northcott data is:  (18473, 285)\n"
     ]
    }
   ],
   "source": [
    "import pandas as pd\n",
    "import numpy as np\n",
    "import matplotlib.pyplot as plt\n",
    "from mpl_toolkits import mplot3d\n",
    "import matplotlib.patches as mpatches\n",
    "%matplotlib qt\n",
    "import warnings; warnings.simplefilter('ignore')\n",
    "\n",
    "Cavalli = pd.read_csv('Medulloblastoma Files\\Tumor_Medulloblastoma_Cavalli_763_rma_sketch_hugene11t.txt', sep=';', na_values=\".\")\n",
    "print(\"The shape of the Cavalli data is: \", Cavalli.shape)\n",
    "\n",
    "Northcott = pd.read_csv('Medulloblastoma Files\\Tumor_Medulloblastoma_MAGIC_Northcott_285_rma_sketch_hugene11t.txt',sep=';', na_values=\".\")\n",
    "print(\"The shape of the Northcott data is: \", Northcott.shape)"
   ]
  },
  {
   "cell_type": "code",
   "execution_count": 4,
   "metadata": {},
   "outputs": [],
   "source": [
    "Cavalli = Cavalli.T\n",
    "Northcott = Northcott.T"
   ]
  },
  {
   "cell_type": "code",
   "execution_count": 5,
   "metadata": {},
   "outputs": [],
   "source": [
    "subgroups = pd.read_csv('Medulloblastoma Files\\GSE85218_subgroups.csv', sep=' ', na_values=\".\", header=None)\n",
    "subgroups.columns = ['key','Subgroup']\n",
    "subgroups = subgroups.set_index('key')"
   ]
  },
  {
   "cell_type": "code",
   "execution_count": 6,
   "metadata": {},
   "outputs": [],
   "source": [
    "def variance_threshold_selector(data, threshold=0.1):\n",
    "    selector = VarianceThreshold(threshold)\n",
    "    selector.fit(data)\n",
    "    return data[data.columns[selector.get_support(indices=True)]]"
   ]
  },
  {
   "cell_type": "code",
   "execution_count": 7,
   "metadata": {},
   "outputs": [
    {
     "name": "stdout",
     "output_type": "stream",
     "text": [
      "With a threshold of 0.25, the Cavalli dataset is just  (763, 6498)\n",
      "With a threshold of 0.25, the Northcott dataset is just  (285, 5880)\n"
     ]
    }
   ],
   "source": [
    "from sklearn.feature_selection import VarianceThreshold\n",
    "\n",
    "Cavalli_variance = variance_threshold_selector(Cavalli,0.25)\n",
    "Northcott_variance = variance_threshold_selector(Northcott,0.25)\n",
    "\n",
    "print(\"With a threshold of 0.25, the Cavalli dataset is just \", Cavalli_variance.shape)\n",
    "print(\"With a threshold of 0.25, the Northcott dataset is just \", Northcott_variance.shape)"
   ]
  },
  {
   "cell_type": "code",
   "execution_count": 8,
   "metadata": {},
   "outputs": [
    {
     "name": "stdout",
     "output_type": "stream",
     "text": [
      "Cavalli common genes:  (763, 5668)\n",
      "Northcott common genes:  (285, 5668)\n"
     ]
    }
   ],
   "source": [
    "Cavalli_columns = Cavalli_variance.columns\n",
    "Northcott_columns = Northcott_variance.columns\n",
    "\n",
    "Common_genes = list((set(Cavalli_columns))&(set(Northcott_columns)))\n",
    "\n",
    "Cavalli_end = Cavalli[Common_genes]\n",
    "Northcott_end = Northcott[Common_genes]\n",
    "\n",
    "print(\"Cavalli common genes: \", Cavalli_end.shape)\n",
    "print(\"Northcott common genes: \", Northcott_end.shape)"
   ]
  },
  {
   "cell_type": "code",
   "execution_count": 39,
   "metadata": {},
   "outputs": [],
   "source": [
    "import umap\n",
    "\n",
    "%matplotlib qt\n",
    "n_neighbors = [5,15,50,75]\n",
    "data = Northcott_end.drop(['Subgroups'],axis=1)\n",
    "\n",
    "\n",
    "for i in n_neighbors:\n",
    "    reducer = umap.UMAP(n_components=3,n_neighbors=i)\n",
    "    embedding = reducer.fit_transform(data)\n",
    "    embedding_df = pd.DataFrame(embedding)\n",
    "    embedding_df['Subgroups']= subgroups_northcott[1].values\n",
    "\n",
    "    X_data= embedding_df[0]\n",
    "    Y_data = embedding_df[1]\n",
    "    Z_data = embedding_df[2]\n",
    "    Sbgrp = embedding_df['Subgroups']\n",
    "\n",
    "    cdict = {'Group4': 'red', 'SHH': 'blue', 'WNT': 'green', 'Group3': 'yellow'}\n",
    "    c = [cdict[val] for val in Sbgrp]\n",
    "\n",
    "    plt.figure(figsize=(16,10))\n",
    "    ax = plt.axes(projection='3d')\n",
    "    ax.scatter3D(X_data, Y_data, Z_data, c=c);\n",
    "    red_c = mpatches.Patch(color='red', label='Group4')\n",
    "    blue_c = mpatches.Patch(color='blue', label='SHH')\n",
    "    green_c = mpatches.Patch(color='green', label='WNT')\n",
    "    yellow_c = mpatches.Patch(color='yellow', label='Group3')\n",
    "    plt.legend(handles=[red_c,blue_c,green_c,yellow_c])\n",
    "    plt.title('UMAP with n_neighbors %i'%(i))\n",
    "    plt.show()"
   ]
  },
  {
   "cell_type": "code",
   "execution_count": null,
   "metadata": {},
   "outputs": [],
   "source": [
    "Cavalli_end.to_csv('Medulloblastoma Files\\Medulloblastoma_Cavalli_VAE_data_Less.csv', sep=',', header=True)\n",
    "Northcott_end.to_csv('Medulloblastoma Files\\Medulloblastoma_Northcott_VAE_data_Less.csv', sep=',', header=True)"
   ]
  },
  {
   "cell_type": "markdown",
   "metadata": {},
   "source": [
    "### Check if they are similar\n",
    "#### Haussdorf distance\n"
   ]
  },
  {
   "cell_type": "code",
   "execution_count": 9,
   "metadata": {},
   "outputs": [
    {
     "name": "stdout",
     "output_type": "stream",
     "text": [
      "The shape of the subgroups is:  (763, 2)\n",
      "The shape of the subgroups is:  (285, 2)\n"
     ]
    }
   ],
   "source": [
    "subgroups_cavalli = pd.read_csv('Medulloblastoma Files\\GSE85218_subgroups.csv', sep=' ',header=None)\n",
    "print(\"The shape of the subgroups is: \", subgroups_cavalli.shape)\n",
    "subgroups_northcott = pd.read_csv('Medulloblastoma Files\\GSE37382_subgroups.csv', sep=' ',header=None)\n",
    "print(\"The shape of the subgroups is: \", subgroups_northcott.shape)"
   ]
  },
  {
   "cell_type": "code",
   "execution_count": 10,
   "metadata": {},
   "outputs": [],
   "source": [
    "Cavalli_end['Subgroups'] = subgroups_cavalli[1].values\n",
    "Northcott_end['Subgroups'] = subgroups_northcott[1].values\n",
    "\n",
    "Cavalli_G3 = Cavalli_end.loc[Cavalli_end['Subgroups']=='Group3']\n",
    "Cavalli_G4 = Cavalli_end.loc[Cavalli_end['Subgroups']=='Group4']\n",
    "\n",
    "Northcott_G3 = Northcott_end.loc[Northcott_end['Subgroups'] == 'Group3']\n",
    "Northcott_G4 = Northcott_end.loc[Northcott_end['Subgroups'] == 'Group4']\n",
    "\n",
    "Cavalli_G3 = Cavalli_G3.drop(['Subgroups'],axis=1)\n",
    "Cavalli_G4 = Cavalli_G4.drop(['Subgroups'],axis=1)\n",
    "\n",
    "Northcott_G3 = Northcott_G3.drop(['Subgroups'],axis=1)\n",
    "Northcott_G4 = Northcott_G4.drop(['Subgroups'],axis=1)"
   ]
  },
  {
   "cell_type": "code",
   "execution_count": 11,
   "metadata": {},
   "outputs": [],
   "source": [
    "minor_g3_cavalli, average_g3_cavalli, max_g3_cavalli, average_max_g3_cavalli = max_min_distances(Cavalli_G3)\n",
    "minor_g4_cavalli, average_g4_cavalli, max_g4_cavalli, average_max_g4_cavalli  = max_min_distances(Cavalli_G4)\n",
    "minor_g3_northcott, average_g3_northcott, max_g3_northcott, average_max_g3_northcott  = max_min_distances(Northcott_G3)\n",
    "minor_g4_northcott, average_g4_northcott, max_g4_northcott, average_max_g4_northcott  = max_min_distances(Northcott_G4)"
   ]
  },
  {
   "cell_type": "code",
   "execution_count": 30,
   "metadata": {},
   "outputs": [
    {
     "name": "stdout",
     "output_type": "stream",
     "text": [
      "Haussdorf distances G3:  93.2322\n",
      "Haussdorf distances G4:  79.651\n"
     ]
    }
   ],
   "source": [
    "from scipy.spatial.distance import directed_hausdorff\n",
    "\n",
    "C_N_G3 = directed_hausdorff(Cavalli_G3.to_numpy(), Northcott_G3.to_numpy())[0]\n",
    "C_N_G4 = directed_hausdorff(Cavalli_G4.to_numpy(), Northcott_G4.to_numpy())[0]\n",
    "\n",
    "print(\"Haussdorf distances G3: \", round(C_N_G3,4))\n",
    "print(\"Haussdorf distances G4: \", round(C_N_G4,4))"
   ]
  },
  {
   "cell_type": "code",
   "execution_count": 31,
   "metadata": {},
   "outputs": [
    {
     "name": "stdout",
     "output_type": "stream",
     "text": [
      "Average Min Cavalli G3:  61.7802  Average Max Cavalli G3:  117.9298\n",
      "Average Min Cavalli G4:  53.3281  Average Max Cavalli G4:  101.093\n",
      "Average Min Northcott G3:  63.6665  Average Max Northcott G4:  102.7325\n",
      "Average Min Northcott G4:  53.9956  Average Max Northcott G4:  113.1816\n"
     ]
    }
   ],
   "source": [
    "print(\"Average Min Cavalli G3: \",round(average_g3_cavalli,4),\" Average Max Cavalli G3: \", round(average_max_g3_cavalli,4))\n",
    "print(\"Average Min Cavalli G4: \",round(average_g4_cavalli,4),\" Average Max Cavalli G4: \", round(average_max_g4_cavalli,4))\n",
    "\n",
    "print(\"Average Min Northcott G3: \",round(average_g3_northcott,4),\" Average Max Northcott G4: \", round(average_max_g3_northcott,4))\n",
    "print(\"Average Min Northcott G4: \",round(average_g4_northcott,4),\" Average Max Northcott G4: \", round(average_max_g4_northcott,4))"
   ]
  },
  {
   "cell_type": "markdown",
   "metadata": {},
   "source": [
    "#### Haussdorf distance between the sets of Cavalli and Northcott is similar to the mean between the largest and closest distance. It means that they distance between both datasets is similar to the one that exists between two random points of a subset. Thus, they are really close."
   ]
  },
  {
   "cell_type": "code",
   "execution_count": 14,
   "metadata": {},
   "outputs": [
    {
     "name": "stdout",
     "output_type": "stream",
     "text": [
      "Outliers Cavalli-G3:  set()\n",
      "Outliers Cavalli-G4:  set()\n",
      "Outliers Northcott-G3:  set()\n",
      "Outliers Northcott-G4:  {'gsm917243', 'gsm917255', 'gsm917267'}\n"
     ]
    }
   ],
   "source": [
    "outliers_cavalli_g3 = find_outliers(Cavalli_G3,0.10)\n",
    "outliers_cavalli_g4 = find_outliers(Cavalli_G4,0.10)\n",
    "outliers_northcott_g3 = find_outliers(Northcott_G3,0.10)\n",
    "outliers_northcott_g4 = find_outliers(Northcott_G4,0.10)\n",
    "\n",
    "print(\"Outliers Cavalli-G3: \", outliers_cavalli_g3)\n",
    "print(\"Outliers Cavalli-G4: \", outliers_cavalli_g4)\n",
    "print(\"Outliers Northcott-G3: \", outliers_northcott_g3)\n",
    "print(\"Outliers Northcott-G4: \", outliers_northcott_g4)"
   ]
  },
  {
   "cell_type": "code",
   "execution_count": 21,
   "metadata": {},
   "outputs": [],
   "source": [
    "Northcott_end = Northcott_end.drop(Northcott_end.loc[Northcott_end.index.isin(outliers_northcott_g4)].index,axis=0)"
   ]
  },
  {
   "cell_type": "code",
   "execution_count": 32,
   "metadata": {},
   "outputs": [],
   "source": [
    "subgroups_northcott = subgroups_northcott.drop(subgroups_northcott.loc[subgroups_northcott[0].isin(outliers_northcott_g4)].index,axis=0)"
   ]
  },
  {
   "cell_type": "code",
   "execution_count": null,
   "metadata": {},
   "outputs": [],
   "source": []
  }
 ],
 "metadata": {
  "kernelspec": {
   "display_name": "Python 3",
   "language": "python",
   "name": "python3"
  },
  "language_info": {
   "codemirror_mode": {
    "name": "ipython",
    "version": 3
   },
   "file_extension": ".py",
   "mimetype": "text/x-python",
   "name": "python",
   "nbconvert_exporter": "python",
   "pygments_lexer": "ipython3",
   "version": "3.7.9"
  }
 },
 "nbformat": 4,
 "nbformat_minor": 4
}
